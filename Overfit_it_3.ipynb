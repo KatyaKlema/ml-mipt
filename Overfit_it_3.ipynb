{
  "nbformat": 4,
  "nbformat_minor": 0,
  "metadata": {
    "accelerator": "GPU",
    "colab": {
      "name": "Overfit_it_3.ipynb",
      "provenance": [],
      "collapsed_sections": []
    },
    "kernelspec": {
      "display_name": "Python 3",
      "language": "python",
      "name": "python3"
    },
    "language_info": {
      "codemirror_mode": {
        "name": "ipython",
        "version": 3
      },
      "file_extension": ".py",
      "mimetype": "text/x-python",
      "name": "python",
      "nbconvert_exporter": "python",
      "pygments_lexer": "ipython3",
      "version": "3.6.4"
    },
    "widgets": {
      "application/vnd.jupyter.widget-state+json": {
        "368013a259cb4e2791738ecdd875678c": {
          "model_module": "@jupyter-widgets/controls",
          "model_name": "HBoxModel",
          "state": {
            "_view_name": "HBoxView",
            "_dom_classes": [],
            "_model_name": "HBoxModel",
            "_view_module": "@jupyter-widgets/controls",
            "_model_module_version": "1.5.0",
            "_view_count": null,
            "_view_module_version": "1.5.0",
            "box_style": "",
            "layout": "IPY_MODEL_afc5efb83c9b4742b860441470203bcf",
            "_model_module": "@jupyter-widgets/controls",
            "children": [
              "IPY_MODEL_cb44aff49c334f22adceb83cddc3a24c",
              "IPY_MODEL_8d223248311d48abae451d5b7f30179a"
            ]
          }
        },
        "afc5efb83c9b4742b860441470203bcf": {
          "model_module": "@jupyter-widgets/base",
          "model_name": "LayoutModel",
          "state": {
            "_view_name": "LayoutView",
            "grid_template_rows": null,
            "right": null,
            "justify_content": null,
            "_view_module": "@jupyter-widgets/base",
            "overflow": null,
            "_model_module_version": "1.2.0",
            "_view_count": null,
            "flex_flow": null,
            "width": null,
            "min_width": null,
            "border": null,
            "align_items": null,
            "bottom": null,
            "_model_module": "@jupyter-widgets/base",
            "top": null,
            "grid_column": null,
            "overflow_y": null,
            "overflow_x": null,
            "grid_auto_flow": null,
            "grid_area": null,
            "grid_template_columns": null,
            "flex": null,
            "_model_name": "LayoutModel",
            "justify_items": null,
            "grid_row": null,
            "max_height": null,
            "align_content": null,
            "visibility": null,
            "align_self": null,
            "height": null,
            "min_height": null,
            "padding": null,
            "grid_auto_rows": null,
            "grid_gap": null,
            "max_width": null,
            "order": null,
            "_view_module_version": "1.2.0",
            "grid_template_areas": null,
            "object_position": null,
            "object_fit": null,
            "grid_auto_columns": null,
            "margin": null,
            "display": null,
            "left": null
          }
        },
        "cb44aff49c334f22adceb83cddc3a24c": {
          "model_module": "@jupyter-widgets/controls",
          "model_name": "FloatProgressModel",
          "state": {
            "_view_name": "ProgressView",
            "style": "IPY_MODEL_4f6b1456b9f64368adbddb1b41891513",
            "_dom_classes": [],
            "description": "",
            "_model_name": "FloatProgressModel",
            "bar_style": "info",
            "max": 1,
            "_view_module": "@jupyter-widgets/controls",
            "_model_module_version": "1.5.0",
            "value": 1,
            "_view_count": null,
            "_view_module_version": "1.5.0",
            "orientation": "horizontal",
            "min": 0,
            "description_tooltip": null,
            "_model_module": "@jupyter-widgets/controls",
            "layout": "IPY_MODEL_3543fd08dc9748d497e493183e3ba57d"
          }
        },
        "8d223248311d48abae451d5b7f30179a": {
          "model_module": "@jupyter-widgets/controls",
          "model_name": "HTMLModel",
          "state": {
            "_view_name": "HTMLView",
            "style": "IPY_MODEL_b01c89a90a4149f3bd9ed98ce3b9671d",
            "_dom_classes": [],
            "description": "",
            "_model_name": "HTMLModel",
            "placeholder": "​",
            "_view_module": "@jupyter-widgets/controls",
            "_model_module_version": "1.5.0",
            "value": " 26427392/? [00:20&lt;00:00, 309306.19it/s]",
            "_view_count": null,
            "_view_module_version": "1.5.0",
            "description_tooltip": null,
            "_model_module": "@jupyter-widgets/controls",
            "layout": "IPY_MODEL_50174358d31a401c99f60d0a294323b1"
          }
        },
        "4f6b1456b9f64368adbddb1b41891513": {
          "model_module": "@jupyter-widgets/controls",
          "model_name": "ProgressStyleModel",
          "state": {
            "_view_name": "StyleView",
            "_model_name": "ProgressStyleModel",
            "description_width": "initial",
            "_view_module": "@jupyter-widgets/base",
            "_model_module_version": "1.5.0",
            "_view_count": null,
            "_view_module_version": "1.2.0",
            "bar_color": null,
            "_model_module": "@jupyter-widgets/controls"
          }
        },
        "3543fd08dc9748d497e493183e3ba57d": {
          "model_module": "@jupyter-widgets/base",
          "model_name": "LayoutModel",
          "state": {
            "_view_name": "LayoutView",
            "grid_template_rows": null,
            "right": null,
            "justify_content": null,
            "_view_module": "@jupyter-widgets/base",
            "overflow": null,
            "_model_module_version": "1.2.0",
            "_view_count": null,
            "flex_flow": null,
            "width": null,
            "min_width": null,
            "border": null,
            "align_items": null,
            "bottom": null,
            "_model_module": "@jupyter-widgets/base",
            "top": null,
            "grid_column": null,
            "overflow_y": null,
            "overflow_x": null,
            "grid_auto_flow": null,
            "grid_area": null,
            "grid_template_columns": null,
            "flex": null,
            "_model_name": "LayoutModel",
            "justify_items": null,
            "grid_row": null,
            "max_height": null,
            "align_content": null,
            "visibility": null,
            "align_self": null,
            "height": null,
            "min_height": null,
            "padding": null,
            "grid_auto_rows": null,
            "grid_gap": null,
            "max_width": null,
            "order": null,
            "_view_module_version": "1.2.0",
            "grid_template_areas": null,
            "object_position": null,
            "object_fit": null,
            "grid_auto_columns": null,
            "margin": null,
            "display": null,
            "left": null
          }
        },
        "b01c89a90a4149f3bd9ed98ce3b9671d": {
          "model_module": "@jupyter-widgets/controls",
          "model_name": "DescriptionStyleModel",
          "state": {
            "_view_name": "StyleView",
            "_model_name": "DescriptionStyleModel",
            "description_width": "",
            "_view_module": "@jupyter-widgets/base",
            "_model_module_version": "1.5.0",
            "_view_count": null,
            "_view_module_version": "1.2.0",
            "_model_module": "@jupyter-widgets/controls"
          }
        },
        "50174358d31a401c99f60d0a294323b1": {
          "model_module": "@jupyter-widgets/base",
          "model_name": "LayoutModel",
          "state": {
            "_view_name": "LayoutView",
            "grid_template_rows": null,
            "right": null,
            "justify_content": null,
            "_view_module": "@jupyter-widgets/base",
            "overflow": null,
            "_model_module_version": "1.2.0",
            "_view_count": null,
            "flex_flow": null,
            "width": null,
            "min_width": null,
            "border": null,
            "align_items": null,
            "bottom": null,
            "_model_module": "@jupyter-widgets/base",
            "top": null,
            "grid_column": null,
            "overflow_y": null,
            "overflow_x": null,
            "grid_auto_flow": null,
            "grid_area": null,
            "grid_template_columns": null,
            "flex": null,
            "_model_name": "LayoutModel",
            "justify_items": null,
            "grid_row": null,
            "max_height": null,
            "align_content": null,
            "visibility": null,
            "align_self": null,
            "height": null,
            "min_height": null,
            "padding": null,
            "grid_auto_rows": null,
            "grid_gap": null,
            "max_width": null,
            "order": null,
            "_view_module_version": "1.2.0",
            "grid_template_areas": null,
            "object_position": null,
            "object_fit": null,
            "grid_auto_columns": null,
            "margin": null,
            "display": null,
            "left": null
          }
        },
        "bc57b323f90e4aea9d2c54d947bc8ef5": {
          "model_module": "@jupyter-widgets/controls",
          "model_name": "HBoxModel",
          "state": {
            "_view_name": "HBoxView",
            "_dom_classes": [],
            "_model_name": "HBoxModel",
            "_view_module": "@jupyter-widgets/controls",
            "_model_module_version": "1.5.0",
            "_view_count": null,
            "_view_module_version": "1.5.0",
            "box_style": "",
            "layout": "IPY_MODEL_ae71970c42e24cb3bba57cde36b9b3c7",
            "_model_module": "@jupyter-widgets/controls",
            "children": [
              "IPY_MODEL_a7c9ff16754d4b569f79501b04571962",
              "IPY_MODEL_9155ceabe9c54c9b96ffd50bde17bc5f"
            ]
          }
        },
        "ae71970c42e24cb3bba57cde36b9b3c7": {
          "model_module": "@jupyter-widgets/base",
          "model_name": "LayoutModel",
          "state": {
            "_view_name": "LayoutView",
            "grid_template_rows": null,
            "right": null,
            "justify_content": null,
            "_view_module": "@jupyter-widgets/base",
            "overflow": null,
            "_model_module_version": "1.2.0",
            "_view_count": null,
            "flex_flow": null,
            "width": null,
            "min_width": null,
            "border": null,
            "align_items": null,
            "bottom": null,
            "_model_module": "@jupyter-widgets/base",
            "top": null,
            "grid_column": null,
            "overflow_y": null,
            "overflow_x": null,
            "grid_auto_flow": null,
            "grid_area": null,
            "grid_template_columns": null,
            "flex": null,
            "_model_name": "LayoutModel",
            "justify_items": null,
            "grid_row": null,
            "max_height": null,
            "align_content": null,
            "visibility": null,
            "align_self": null,
            "height": null,
            "min_height": null,
            "padding": null,
            "grid_auto_rows": null,
            "grid_gap": null,
            "max_width": null,
            "order": null,
            "_view_module_version": "1.2.0",
            "grid_template_areas": null,
            "object_position": null,
            "object_fit": null,
            "grid_auto_columns": null,
            "margin": null,
            "display": null,
            "left": null
          }
        },
        "a7c9ff16754d4b569f79501b04571962": {
          "model_module": "@jupyter-widgets/controls",
          "model_name": "FloatProgressModel",
          "state": {
            "_view_name": "ProgressView",
            "style": "IPY_MODEL_a5fe1535e6ba4b7c99787c21fc30afc7",
            "_dom_classes": [],
            "description": "  0%",
            "_model_name": "FloatProgressModel",
            "bar_style": "info",
            "max": 1,
            "_view_module": "@jupyter-widgets/controls",
            "_model_module_version": "1.5.0",
            "value": 0,
            "_view_count": null,
            "_view_module_version": "1.5.0",
            "orientation": "horizontal",
            "min": 0,
            "description_tooltip": null,
            "_model_module": "@jupyter-widgets/controls",
            "layout": "IPY_MODEL_0c472d696ac14ca8bebe3dbc8773bffc"
          }
        },
        "9155ceabe9c54c9b96ffd50bde17bc5f": {
          "model_module": "@jupyter-widgets/controls",
          "model_name": "HTMLModel",
          "state": {
            "_view_name": "HTMLView",
            "style": "IPY_MODEL_31a7a22a5a9c4b8d8d992efe1faf0d48",
            "_dom_classes": [],
            "description": "",
            "_model_name": "HTMLModel",
            "placeholder": "​",
            "_view_module": "@jupyter-widgets/controls",
            "_model_module_version": "1.5.0",
            "value": " 0/29515 [00:00&lt;?, ?it/s]",
            "_view_count": null,
            "_view_module_version": "1.5.0",
            "description_tooltip": null,
            "_model_module": "@jupyter-widgets/controls",
            "layout": "IPY_MODEL_436beb3d6d79402d84f0cd2f3ecb3a47"
          }
        },
        "a5fe1535e6ba4b7c99787c21fc30afc7": {
          "model_module": "@jupyter-widgets/controls",
          "model_name": "ProgressStyleModel",
          "state": {
            "_view_name": "StyleView",
            "_model_name": "ProgressStyleModel",
            "description_width": "initial",
            "_view_module": "@jupyter-widgets/base",
            "_model_module_version": "1.5.0",
            "_view_count": null,
            "_view_module_version": "1.2.0",
            "bar_color": null,
            "_model_module": "@jupyter-widgets/controls"
          }
        },
        "0c472d696ac14ca8bebe3dbc8773bffc": {
          "model_module": "@jupyter-widgets/base",
          "model_name": "LayoutModel",
          "state": {
            "_view_name": "LayoutView",
            "grid_template_rows": null,
            "right": null,
            "justify_content": null,
            "_view_module": "@jupyter-widgets/base",
            "overflow": null,
            "_model_module_version": "1.2.0",
            "_view_count": null,
            "flex_flow": null,
            "width": null,
            "min_width": null,
            "border": null,
            "align_items": null,
            "bottom": null,
            "_model_module": "@jupyter-widgets/base",
            "top": null,
            "grid_column": null,
            "overflow_y": null,
            "overflow_x": null,
            "grid_auto_flow": null,
            "grid_area": null,
            "grid_template_columns": null,
            "flex": null,
            "_model_name": "LayoutModel",
            "justify_items": null,
            "grid_row": null,
            "max_height": null,
            "align_content": null,
            "visibility": null,
            "align_self": null,
            "height": null,
            "min_height": null,
            "padding": null,
            "grid_auto_rows": null,
            "grid_gap": null,
            "max_width": null,
            "order": null,
            "_view_module_version": "1.2.0",
            "grid_template_areas": null,
            "object_position": null,
            "object_fit": null,
            "grid_auto_columns": null,
            "margin": null,
            "display": null,
            "left": null
          }
        },
        "31a7a22a5a9c4b8d8d992efe1faf0d48": {
          "model_module": "@jupyter-widgets/controls",
          "model_name": "DescriptionStyleModel",
          "state": {
            "_view_name": "StyleView",
            "_model_name": "DescriptionStyleModel",
            "description_width": "",
            "_view_module": "@jupyter-widgets/base",
            "_model_module_version": "1.5.0",
            "_view_count": null,
            "_view_module_version": "1.2.0",
            "_model_module": "@jupyter-widgets/controls"
          }
        },
        "436beb3d6d79402d84f0cd2f3ecb3a47": {
          "model_module": "@jupyter-widgets/base",
          "model_name": "LayoutModel",
          "state": {
            "_view_name": "LayoutView",
            "grid_template_rows": null,
            "right": null,
            "justify_content": null,
            "_view_module": "@jupyter-widgets/base",
            "overflow": null,
            "_model_module_version": "1.2.0",
            "_view_count": null,
            "flex_flow": null,
            "width": null,
            "min_width": null,
            "border": null,
            "align_items": null,
            "bottom": null,
            "_model_module": "@jupyter-widgets/base",
            "top": null,
            "grid_column": null,
            "overflow_y": null,
            "overflow_x": null,
            "grid_auto_flow": null,
            "grid_area": null,
            "grid_template_columns": null,
            "flex": null,
            "_model_name": "LayoutModel",
            "justify_items": null,
            "grid_row": null,
            "max_height": null,
            "align_content": null,
            "visibility": null,
            "align_self": null,
            "height": null,
            "min_height": null,
            "padding": null,
            "grid_auto_rows": null,
            "grid_gap": null,
            "max_width": null,
            "order": null,
            "_view_module_version": "1.2.0",
            "grid_template_areas": null,
            "object_position": null,
            "object_fit": null,
            "grid_auto_columns": null,
            "margin": null,
            "display": null,
            "left": null
          }
        },
        "9a0bbba5348a424d86fcdc4bd4a6ae16": {
          "model_module": "@jupyter-widgets/controls",
          "model_name": "HBoxModel",
          "state": {
            "_view_name": "HBoxView",
            "_dom_classes": [],
            "_model_name": "HBoxModel",
            "_view_module": "@jupyter-widgets/controls",
            "_model_module_version": "1.5.0",
            "_view_count": null,
            "_view_module_version": "1.5.0",
            "box_style": "",
            "layout": "IPY_MODEL_ac3296be29bf4bbfafb0c793cd169f68",
            "_model_module": "@jupyter-widgets/controls",
            "children": [
              "IPY_MODEL_9ab5155434484f4f911b0c8162e2bc4d",
              "IPY_MODEL_9b838ef57c0841e18a6f6e34e3ce92be"
            ]
          }
        },
        "ac3296be29bf4bbfafb0c793cd169f68": {
          "model_module": "@jupyter-widgets/base",
          "model_name": "LayoutModel",
          "state": {
            "_view_name": "LayoutView",
            "grid_template_rows": null,
            "right": null,
            "justify_content": null,
            "_view_module": "@jupyter-widgets/base",
            "overflow": null,
            "_model_module_version": "1.2.0",
            "_view_count": null,
            "flex_flow": null,
            "width": null,
            "min_width": null,
            "border": null,
            "align_items": null,
            "bottom": null,
            "_model_module": "@jupyter-widgets/base",
            "top": null,
            "grid_column": null,
            "overflow_y": null,
            "overflow_x": null,
            "grid_auto_flow": null,
            "grid_area": null,
            "grid_template_columns": null,
            "flex": null,
            "_model_name": "LayoutModel",
            "justify_items": null,
            "grid_row": null,
            "max_height": null,
            "align_content": null,
            "visibility": null,
            "align_self": null,
            "height": null,
            "min_height": null,
            "padding": null,
            "grid_auto_rows": null,
            "grid_gap": null,
            "max_width": null,
            "order": null,
            "_view_module_version": "1.2.0",
            "grid_template_areas": null,
            "object_position": null,
            "object_fit": null,
            "grid_auto_columns": null,
            "margin": null,
            "display": null,
            "left": null
          }
        },
        "9ab5155434484f4f911b0c8162e2bc4d": {
          "model_module": "@jupyter-widgets/controls",
          "model_name": "FloatProgressModel",
          "state": {
            "_view_name": "ProgressView",
            "style": "IPY_MODEL_c3d2d7f074d14f2ba1d84cfd32a400a1",
            "_dom_classes": [],
            "description": "",
            "_model_name": "FloatProgressModel",
            "bar_style": "info",
            "max": 1,
            "_view_module": "@jupyter-widgets/controls",
            "_model_module_version": "1.5.0",
            "value": 1,
            "_view_count": null,
            "_view_module_version": "1.5.0",
            "orientation": "horizontal",
            "min": 0,
            "description_tooltip": null,
            "_model_module": "@jupyter-widgets/controls",
            "layout": "IPY_MODEL_c0816c813a9f4aba801ebfc8d848f2ad"
          }
        },
        "9b838ef57c0841e18a6f6e34e3ce92be": {
          "model_module": "@jupyter-widgets/controls",
          "model_name": "HTMLModel",
          "state": {
            "_view_name": "HTMLView",
            "style": "IPY_MODEL_714bc9fdf50544a591302dd63690f49e",
            "_dom_classes": [],
            "description": "",
            "_model_name": "HTMLModel",
            "placeholder": "​",
            "_view_module": "@jupyter-widgets/controls",
            "_model_module_version": "1.5.0",
            "value": " 4423680/? [00:19&lt;00:00, 408259.09it/s]",
            "_view_count": null,
            "_view_module_version": "1.5.0",
            "description_tooltip": null,
            "_model_module": "@jupyter-widgets/controls",
            "layout": "IPY_MODEL_abbdcf63981c48069ab41dcdbea7ae73"
          }
        },
        "c3d2d7f074d14f2ba1d84cfd32a400a1": {
          "model_module": "@jupyter-widgets/controls",
          "model_name": "ProgressStyleModel",
          "state": {
            "_view_name": "StyleView",
            "_model_name": "ProgressStyleModel",
            "description_width": "initial",
            "_view_module": "@jupyter-widgets/base",
            "_model_module_version": "1.5.0",
            "_view_count": null,
            "_view_module_version": "1.2.0",
            "bar_color": null,
            "_model_module": "@jupyter-widgets/controls"
          }
        },
        "c0816c813a9f4aba801ebfc8d848f2ad": {
          "model_module": "@jupyter-widgets/base",
          "model_name": "LayoutModel",
          "state": {
            "_view_name": "LayoutView",
            "grid_template_rows": null,
            "right": null,
            "justify_content": null,
            "_view_module": "@jupyter-widgets/base",
            "overflow": null,
            "_model_module_version": "1.2.0",
            "_view_count": null,
            "flex_flow": null,
            "width": null,
            "min_width": null,
            "border": null,
            "align_items": null,
            "bottom": null,
            "_model_module": "@jupyter-widgets/base",
            "top": null,
            "grid_column": null,
            "overflow_y": null,
            "overflow_x": null,
            "grid_auto_flow": null,
            "grid_area": null,
            "grid_template_columns": null,
            "flex": null,
            "_model_name": "LayoutModel",
            "justify_items": null,
            "grid_row": null,
            "max_height": null,
            "align_content": null,
            "visibility": null,
            "align_self": null,
            "height": null,
            "min_height": null,
            "padding": null,
            "grid_auto_rows": null,
            "grid_gap": null,
            "max_width": null,
            "order": null,
            "_view_module_version": "1.2.0",
            "grid_template_areas": null,
            "object_position": null,
            "object_fit": null,
            "grid_auto_columns": null,
            "margin": null,
            "display": null,
            "left": null
          }
        },
        "714bc9fdf50544a591302dd63690f49e": {
          "model_module": "@jupyter-widgets/controls",
          "model_name": "DescriptionStyleModel",
          "state": {
            "_view_name": "StyleView",
            "_model_name": "DescriptionStyleModel",
            "description_width": "",
            "_view_module": "@jupyter-widgets/base",
            "_model_module_version": "1.5.0",
            "_view_count": null,
            "_view_module_version": "1.2.0",
            "_model_module": "@jupyter-widgets/controls"
          }
        },
        "abbdcf63981c48069ab41dcdbea7ae73": {
          "model_module": "@jupyter-widgets/base",
          "model_name": "LayoutModel",
          "state": {
            "_view_name": "LayoutView",
            "grid_template_rows": null,
            "right": null,
            "justify_content": null,
            "_view_module": "@jupyter-widgets/base",
            "overflow": null,
            "_model_module_version": "1.2.0",
            "_view_count": null,
            "flex_flow": null,
            "width": null,
            "min_width": null,
            "border": null,
            "align_items": null,
            "bottom": null,
            "_model_module": "@jupyter-widgets/base",
            "top": null,
            "grid_column": null,
            "overflow_y": null,
            "overflow_x": null,
            "grid_auto_flow": null,
            "grid_area": null,
            "grid_template_columns": null,
            "flex": null,
            "_model_name": "LayoutModel",
            "justify_items": null,
            "grid_row": null,
            "max_height": null,
            "align_content": null,
            "visibility": null,
            "align_self": null,
            "height": null,
            "min_height": null,
            "padding": null,
            "grid_auto_rows": null,
            "grid_gap": null,
            "max_width": null,
            "order": null,
            "_view_module_version": "1.2.0",
            "grid_template_areas": null,
            "object_position": null,
            "object_fit": null,
            "grid_auto_columns": null,
            "margin": null,
            "display": null,
            "left": null
          }
        },
        "bbfb6978fab74e0d87103d7210c392b2": {
          "model_module": "@jupyter-widgets/controls",
          "model_name": "HBoxModel",
          "state": {
            "_view_name": "HBoxView",
            "_dom_classes": [],
            "_model_name": "HBoxModel",
            "_view_module": "@jupyter-widgets/controls",
            "_model_module_version": "1.5.0",
            "_view_count": null,
            "_view_module_version": "1.5.0",
            "box_style": "",
            "layout": "IPY_MODEL_6e090877047e455badb80435e10e53e9",
            "_model_module": "@jupyter-widgets/controls",
            "children": [
              "IPY_MODEL_cd21fade6cc444b1bf71872fe49faeb9",
              "IPY_MODEL_b28fc45fb1c24ecd84287ef328857239"
            ]
          }
        },
        "6e090877047e455badb80435e10e53e9": {
          "model_module": "@jupyter-widgets/base",
          "model_name": "LayoutModel",
          "state": {
            "_view_name": "LayoutView",
            "grid_template_rows": null,
            "right": null,
            "justify_content": null,
            "_view_module": "@jupyter-widgets/base",
            "overflow": null,
            "_model_module_version": "1.2.0",
            "_view_count": null,
            "flex_flow": null,
            "width": null,
            "min_width": null,
            "border": null,
            "align_items": null,
            "bottom": null,
            "_model_module": "@jupyter-widgets/base",
            "top": null,
            "grid_column": null,
            "overflow_y": null,
            "overflow_x": null,
            "grid_auto_flow": null,
            "grid_area": null,
            "grid_template_columns": null,
            "flex": null,
            "_model_name": "LayoutModel",
            "justify_items": null,
            "grid_row": null,
            "max_height": null,
            "align_content": null,
            "visibility": null,
            "align_self": null,
            "height": null,
            "min_height": null,
            "padding": null,
            "grid_auto_rows": null,
            "grid_gap": null,
            "max_width": null,
            "order": null,
            "_view_module_version": "1.2.0",
            "grid_template_areas": null,
            "object_position": null,
            "object_fit": null,
            "grid_auto_columns": null,
            "margin": null,
            "display": null,
            "left": null
          }
        },
        "cd21fade6cc444b1bf71872fe49faeb9": {
          "model_module": "@jupyter-widgets/controls",
          "model_name": "FloatProgressModel",
          "state": {
            "_view_name": "ProgressView",
            "style": "IPY_MODEL_3260114cc48e42cfb96dbf471de4268d",
            "_dom_classes": [],
            "description": "",
            "_model_name": "FloatProgressModel",
            "bar_style": "info",
            "max": 1,
            "_view_module": "@jupyter-widgets/controls",
            "_model_module_version": "1.5.0",
            "value": 0,
            "_view_count": null,
            "_view_module_version": "1.5.0",
            "orientation": "horizontal",
            "min": 0,
            "description_tooltip": null,
            "_model_module": "@jupyter-widgets/controls",
            "layout": "IPY_MODEL_d36d7e4f6c8540f8979b8494cdaa216e"
          }
        },
        "b28fc45fb1c24ecd84287ef328857239": {
          "model_module": "@jupyter-widgets/controls",
          "model_name": "HTMLModel",
          "state": {
            "_view_name": "HTMLView",
            "style": "IPY_MODEL_d7dfecdaf9b846498075ab9bc64e48ef",
            "_dom_classes": [],
            "description": "",
            "_model_name": "HTMLModel",
            "placeholder": "​",
            "_view_module": "@jupyter-widgets/controls",
            "_model_module_version": "1.5.0",
            "value": " 0/? [00:00&lt;?, ?it/s]",
            "_view_count": null,
            "_view_module_version": "1.5.0",
            "description_tooltip": null,
            "_model_module": "@jupyter-widgets/controls",
            "layout": "IPY_MODEL_e7569f1f7dea41f38597e9fe3a8ceae6"
          }
        },
        "3260114cc48e42cfb96dbf471de4268d": {
          "model_module": "@jupyter-widgets/controls",
          "model_name": "ProgressStyleModel",
          "state": {
            "_view_name": "StyleView",
            "_model_name": "ProgressStyleModel",
            "description_width": "initial",
            "_view_module": "@jupyter-widgets/base",
            "_model_module_version": "1.5.0",
            "_view_count": null,
            "_view_module_version": "1.2.0",
            "bar_color": null,
            "_model_module": "@jupyter-widgets/controls"
          }
        },
        "d36d7e4f6c8540f8979b8494cdaa216e": {
          "model_module": "@jupyter-widgets/base",
          "model_name": "LayoutModel",
          "state": {
            "_view_name": "LayoutView",
            "grid_template_rows": null,
            "right": null,
            "justify_content": null,
            "_view_module": "@jupyter-widgets/base",
            "overflow": null,
            "_model_module_version": "1.2.0",
            "_view_count": null,
            "flex_flow": null,
            "width": null,
            "min_width": null,
            "border": null,
            "align_items": null,
            "bottom": null,
            "_model_module": "@jupyter-widgets/base",
            "top": null,
            "grid_column": null,
            "overflow_y": null,
            "overflow_x": null,
            "grid_auto_flow": null,
            "grid_area": null,
            "grid_template_columns": null,
            "flex": null,
            "_model_name": "LayoutModel",
            "justify_items": null,
            "grid_row": null,
            "max_height": null,
            "align_content": null,
            "visibility": null,
            "align_self": null,
            "height": null,
            "min_height": null,
            "padding": null,
            "grid_auto_rows": null,
            "grid_gap": null,
            "max_width": null,
            "order": null,
            "_view_module_version": "1.2.0",
            "grid_template_areas": null,
            "object_position": null,
            "object_fit": null,
            "grid_auto_columns": null,
            "margin": null,
            "display": null,
            "left": null
          }
        },
        "d7dfecdaf9b846498075ab9bc64e48ef": {
          "model_module": "@jupyter-widgets/controls",
          "model_name": "DescriptionStyleModel",
          "state": {
            "_view_name": "StyleView",
            "_model_name": "DescriptionStyleModel",
            "description_width": "",
            "_view_module": "@jupyter-widgets/base",
            "_model_module_version": "1.5.0",
            "_view_count": null,
            "_view_module_version": "1.2.0",
            "_model_module": "@jupyter-widgets/controls"
          }
        },
        "e7569f1f7dea41f38597e9fe3a8ceae6": {
          "model_module": "@jupyter-widgets/base",
          "model_name": "LayoutModel",
          "state": {
            "_view_name": "LayoutView",
            "grid_template_rows": null,
            "right": null,
            "justify_content": null,
            "_view_module": "@jupyter-widgets/base",
            "overflow": null,
            "_model_module_version": "1.2.0",
            "_view_count": null,
            "flex_flow": null,
            "width": null,
            "min_width": null,
            "border": null,
            "align_items": null,
            "bottom": null,
            "_model_module": "@jupyter-widgets/base",
            "top": null,
            "grid_column": null,
            "overflow_y": null,
            "overflow_x": null,
            "grid_auto_flow": null,
            "grid_area": null,
            "grid_template_columns": null,
            "flex": null,
            "_model_name": "LayoutModel",
            "justify_items": null,
            "grid_row": null,
            "max_height": null,
            "align_content": null,
            "visibility": null,
            "align_self": null,
            "height": null,
            "min_height": null,
            "padding": null,
            "grid_auto_rows": null,
            "grid_gap": null,
            "max_width": null,
            "order": null,
            "_view_module_version": "1.2.0",
            "grid_template_areas": null,
            "object_position": null,
            "object_fit": null,
            "grid_auto_columns": null,
            "margin": null,
            "display": null,
            "left": null
          }
        }
      }
    }
  },
  "cells": [
    {
      "cell_type": "markdown",
      "metadata": {
        "colab_type": "text",
        "id": "NFmOh482SyEF"
      },
      "source": [
        "## Lab 3\n",
        "### Part 2: Dealing with overfitting"
      ]
    },
    {
      "cell_type": "markdown",
      "metadata": {
        "colab_type": "text",
        "id": "AjzAuO3oSvsI"
      },
      "source": [
        "Today we work with [Fashion-MNIST dataset](https://github.com/zalandoresearch/fashion-mnist) (*hint: it is available in `torchvision`*).\n",
        "\n",
        "Your goal for today:\n",
        "1. Train a FC (fully-connected) network that achieves >= 0.885 test accuracy.\n",
        "2. Cause considerable overfitting by modifying the network (e.g. increasing the number of network parameters and/or layers) and demonstrate in in the appropriate way (e.g. plot loss and accurasy on train and validation set w.r.t. network complexity).\n",
        "3. Try to deal with overfitting (at least partially) by using regularization techniques (Dropout/Batchnorm/...) and demonstrate the results.\n",
        "\n",
        "__Please, write a small report describing your ideas, tries and achieved results in the end of this file.__\n",
        "\n",
        "*Note*: Tasks 2 and 3 are interrelated, in task 3 your goal is to make the network from task 2 less prone to overfitting. Task 1 is independent from 2 and 3.\n",
        "\n",
        "*Note 2*: We recomment to use Google Colab or other machine with GPU acceleration."
      ]
    },
    {
      "cell_type": "code",
      "metadata": {
        "colab_type": "code",
        "id": "_KBld6VOSwhW",
        "colab": {}
      },
      "source": [
        "import torch\n",
        "import torch.nn as nn\n",
        "import torchvision\n",
        "import torchvision.transforms as transforms\n",
        "import torchsummary\n",
        "from IPython.display import clear_output\n",
        "from matplotlib import pyplot as plt\n",
        "from matplotlib.pyplot import figure\n",
        "import numpy as np\n",
        "import os\n",
        "\n",
        "\n",
        "device = 'cuda:0' if torch.cuda.is_available() else 'cpu'"
      ],
      "execution_count": 0,
      "outputs": []
    },
    {
      "cell_type": "code",
      "metadata": {
        "colab_type": "code",
        "id": "EdLOG0XqS_g5",
        "outputId": "fe9805d9-3563-4e8b-9515-946c9e67bd65",
        "colab": {
          "base_uri": "https://localhost:8080/",
          "height": 34
        }
      },
      "source": [
        "# Technical function\n",
        "def mkdir(path):\n",
        "    if not os.path.exists(root_path):\n",
        "        os.mkdir(root_path)\n",
        "        print('Directory', path, 'is created!')\n",
        "    else:\n",
        "        print('Directory', path, 'already exists!')\n",
        "        \n",
        "root_path = 'fmnist'\n",
        "mkdir(root_path)"
      ],
      "execution_count": 0,
      "outputs": [
        {
          "output_type": "stream",
          "text": [
            "Directory fmnist already exists!\n"
          ],
          "name": "stdout"
        }
      ]
    },
    {
      "cell_type": "code",
      "metadata": {
        "colab_type": "code",
        "id": "qt6LE7XaTDT9",
        "outputId": "5ba24952-39ad-456b-b885-a84c5ae40db9",
        "colab": {
          "base_uri": "https://localhost:8080/",
          "height": 352,
          "referenced_widgets": [
            "368013a259cb4e2791738ecdd875678c",
            "afc5efb83c9b4742b860441470203bcf",
            "cb44aff49c334f22adceb83cddc3a24c",
            "8d223248311d48abae451d5b7f30179a",
            "4f6b1456b9f64368adbddb1b41891513",
            "3543fd08dc9748d497e493183e3ba57d",
            "b01c89a90a4149f3bd9ed98ce3b9671d",
            "50174358d31a401c99f60d0a294323b1",
            "bc57b323f90e4aea9d2c54d947bc8ef5",
            "ae71970c42e24cb3bba57cde36b9b3c7",
            "a7c9ff16754d4b569f79501b04571962",
            "9155ceabe9c54c9b96ffd50bde17bc5f",
            "a5fe1535e6ba4b7c99787c21fc30afc7",
            "0c472d696ac14ca8bebe3dbc8773bffc",
            "31a7a22a5a9c4b8d8d992efe1faf0d48",
            "436beb3d6d79402d84f0cd2f3ecb3a47",
            "9a0bbba5348a424d86fcdc4bd4a6ae16",
            "ac3296be29bf4bbfafb0c793cd169f68",
            "9ab5155434484f4f911b0c8162e2bc4d",
            "9b838ef57c0841e18a6f6e34e3ce92be",
            "c3d2d7f074d14f2ba1d84cfd32a400a1",
            "c0816c813a9f4aba801ebfc8d848f2ad",
            "714bc9fdf50544a591302dd63690f49e",
            "abbdcf63981c48069ab41dcdbea7ae73",
            "bbfb6978fab74e0d87103d7210c392b2",
            "6e090877047e455badb80435e10e53e9",
            "cd21fade6cc444b1bf71872fe49faeb9",
            "b28fc45fb1c24ecd84287ef328857239",
            "3260114cc48e42cfb96dbf471de4268d",
            "d36d7e4f6c8540f8979b8494cdaa216e",
            "d7dfecdaf9b846498075ab9bc64e48ef",
            "e7569f1f7dea41f38597e9fe3a8ceae6"
          ]
        }
      },
      "source": [
        "download = True\n",
        "train_transform = transforms.ToTensor()\n",
        "test_transform = transforms.ToTensor()\n",
        "transforms.Compose((transforms.ToTensor()))\n",
        "\n",
        "\n",
        "fmnist_dataset_train = torchvision.datasets.FashionMNIST(root_path, \n",
        "                                                        train=True, \n",
        "                                                        transform=train_transform,\n",
        "                                                        target_transform=None,\n",
        "                                                        download=download)\n",
        "fmnist_dataset_test = torchvision.datasets.FashionMNIST(root_path, \n",
        "                                                       train=False, \n",
        "                                                       transform=test_transform,\n",
        "                                                       target_transform=None,\n",
        "                                                       download=download)"
      ],
      "execution_count": 0,
      "outputs": [
        {
          "output_type": "stream",
          "text": [
            "Downloading http://fashion-mnist.s3-website.eu-central-1.amazonaws.com/train-images-idx3-ubyte.gz to fmnist/FashionMNIST/raw/train-images-idx3-ubyte.gz\n"
          ],
          "name": "stdout"
        },
        {
          "output_type": "display_data",
          "data": {
            "application/vnd.jupyter.widget-view+json": {
              "model_id": "368013a259cb4e2791738ecdd875678c",
              "version_minor": 0,
              "version_major": 2
            },
            "text/plain": [
              "HBox(children=(FloatProgress(value=1.0, bar_style='info', max=1.0), HTML(value='')))"
            ]
          },
          "metadata": {
            "tags": []
          }
        },
        {
          "output_type": "stream",
          "text": [
            "Extracting fmnist/FashionMNIST/raw/train-images-idx3-ubyte.gz to fmnist/FashionMNIST/raw\n",
            "Downloading http://fashion-mnist.s3-website.eu-central-1.amazonaws.com/train-labels-idx1-ubyte.gz to fmnist/FashionMNIST/raw/train-labels-idx1-ubyte.gz\n"
          ],
          "name": "stdout"
        },
        {
          "output_type": "display_data",
          "data": {
            "application/vnd.jupyter.widget-view+json": {
              "model_id": "bc57b323f90e4aea9d2c54d947bc8ef5",
              "version_minor": 0,
              "version_major": 2
            },
            "text/plain": [
              "HBox(children=(FloatProgress(value=1.0, bar_style='info', max=1.0), HTML(value='')))"
            ]
          },
          "metadata": {
            "tags": []
          }
        },
        {
          "output_type": "stream",
          "text": [
            "Extracting fmnist/FashionMNIST/raw/train-labels-idx1-ubyte.gz to fmnist/FashionMNIST/raw\n",
            "Downloading http://fashion-mnist.s3-website.eu-central-1.amazonaws.com/t10k-images-idx3-ubyte.gz to fmnist/FashionMNIST/raw/t10k-images-idx3-ubyte.gz\n"
          ],
          "name": "stdout"
        },
        {
          "output_type": "display_data",
          "data": {
            "application/vnd.jupyter.widget-view+json": {
              "model_id": "9a0bbba5348a424d86fcdc4bd4a6ae16",
              "version_minor": 0,
              "version_major": 2
            },
            "text/plain": [
              "HBox(children=(FloatProgress(value=1.0, bar_style='info', max=1.0), HTML(value='')))"
            ]
          },
          "metadata": {
            "tags": []
          }
        },
        {
          "output_type": "stream",
          "text": [
            "Extracting fmnist/FashionMNIST/raw/t10k-images-idx3-ubyte.gz to fmnist/FashionMNIST/raw\n",
            "Downloading http://fashion-mnist.s3-website.eu-central-1.amazonaws.com/t10k-labels-idx1-ubyte.gz to fmnist/FashionMNIST/raw/t10k-labels-idx1-ubyte.gz\n"
          ],
          "name": "stdout"
        },
        {
          "output_type": "display_data",
          "data": {
            "application/vnd.jupyter.widget-view+json": {
              "model_id": "bbfb6978fab74e0d87103d7210c392b2",
              "version_minor": 0,
              "version_major": 2
            },
            "text/plain": [
              "HBox(children=(FloatProgress(value=1.0, bar_style='info', max=1.0), HTML(value='')))"
            ]
          },
          "metadata": {
            "tags": []
          }
        },
        {
          "output_type": "stream",
          "text": [
            "Extracting fmnist/FashionMNIST/raw/t10k-labels-idx1-ubyte.gz to fmnist/FashionMNIST/raw\n",
            "Processing...\n",
            "Done!\n"
          ],
          "name": "stdout"
        },
        {
          "output_type": "stream",
          "text": [
            "/pytorch/torch/csrc/utils/tensor_numpy.cpp:141: UserWarning: The given NumPy array is not writeable, and PyTorch does not support non-writeable tensors. This means you can write to the underlying (supposedly non-writeable) NumPy array using the tensor. You may want to copy the array to protect its data or make it writeable before converting it to a tensor. This type of warning will be suppressed for the rest of this program.\n"
          ],
          "name": "stderr"
        }
      ]
    },
    {
      "cell_type": "code",
      "metadata": {
        "colab_type": "code",
        "id": "71YP0SPwTIxD",
        "colab": {}
      },
      "source": [
        "train_loader = torch.utils.data.DataLoader(fmnist_dataset_train, \n",
        "                                           batch_size=128,\n",
        "                                           shuffle=True,\n",
        "                                           num_workers=2)\n",
        "test_loader = torch.utils.data.DataLoader(fmnist_dataset_test,\n",
        "                                          batch_size=256,\n",
        "                                          shuffle=False,\n",
        "                                          num_workers=2)"
      ],
      "execution_count": 0,
      "outputs": []
    },
    {
      "cell_type": "code",
      "metadata": {
        "colab_type": "code",
        "id": "v_YFmF7NTWrQ",
        "outputId": "b90a0444-dc3f-493b-8002-eb45eb6d46b8",
        "colab": {
          "base_uri": "https://localhost:8080/",
          "height": 34
        }
      },
      "source": [
        "len(fmnist_dataset_test)"
      ],
      "execution_count": 0,
      "outputs": [
        {
          "output_type": "execute_result",
          "data": {
            "text/plain": [
              "10000"
            ]
          },
          "metadata": {
            "tags": []
          },
          "execution_count": 7
        }
      ]
    },
    {
      "cell_type": "code",
      "metadata": {
        "colab_type": "code",
        "id": "aHca15bOTY4B",
        "outputId": "dc9105ac-1e02-48c2-aeb1-349a4d8758d3",
        "colab": {
          "base_uri": "https://localhost:8080/",
          "height": 68
        }
      },
      "source": [
        "for img, label in train_loader:\n",
        "    print(img.shape)\n",
        "#     print(img)\n",
        "    print(label.shape)\n",
        "    print(label.size(0))\n",
        "    break"
      ],
      "execution_count": 0,
      "outputs": [
        {
          "output_type": "stream",
          "text": [
            "torch.Size([128, 1, 28, 28])\n",
            "torch.Size([128])\n",
            "128\n"
          ],
          "name": "stdout"
        }
      ]
    },
    {
      "cell_type": "markdown",
      "metadata": {
        "colab_type": "text",
        "id": "b6OOOffHTfX5"
      },
      "source": [
        "### Task 1\n",
        "Train a network that achieves $\\geq 0.885$ test accuracy. It's fine to use only Linear (`nn.Linear`) layers and activations/dropout/batchnorm. Convolutional layers might be a great use, but we will meet them a bit later."
      ]
    },
    {
      "cell_type": "code",
      "metadata": {
        "colab_type": "code",
        "id": "ftpkTjxlTcFx",
        "colab": {}
      },
      "source": [
        "class TinyNeuralNetwork(nn.Module):\n",
        "    def __init__(self, input_shape=28*28, num_classes=10, input_channels=1):\n",
        "        super(self.__class__, self).__init__()\n",
        "        self.model = nn.Sequential(\n",
        "            nn.Flatten(), # This layer converts image into a vector to use Linear layers afterwards\n",
        "            # Your network structure comes here\n",
        "            nn.Linear(input_shape, input_shape),\n",
        "            nn.LeakyReLU(),\n",
        "            nn.Dropout(0.5),\n",
        "            nn.Linear(input_shape, num_classes)\n",
        "        )\n",
        "        \n",
        "    def forward(self, inp):       \n",
        "        out = self.model(inp)\n",
        "        return out"
      ],
      "execution_count": 0,
      "outputs": []
    },
    {
      "cell_type": "code",
      "metadata": {
        "id": "VTRYou8BXvSq",
        "colab_type": "code",
        "outputId": "90c86b85-e680-4c8a-d96c-e5cf7356f900",
        "colab": {
          "base_uri": "https://localhost:8080/",
          "height": 323
        }
      },
      "source": [
        "torchsummary.summary(TinyNeuralNetwork().to(device), (28*28,))"
      ],
      "execution_count": 0,
      "outputs": [
        {
          "output_type": "stream",
          "text": [
            "----------------------------------------------------------------\n",
            "        Layer (type)               Output Shape         Param #\n",
            "================================================================\n",
            "           Flatten-1                  [-1, 784]               0\n",
            "            Linear-2                  [-1, 784]         615,440\n",
            "         LeakyReLU-3                  [-1, 784]               0\n",
            "           Dropout-4                  [-1, 784]               0\n",
            "            Linear-5                   [-1, 10]           7,850\n",
            "================================================================\n",
            "Total params: 623,290\n",
            "Trainable params: 623,290\n",
            "Non-trainable params: 0\n",
            "----------------------------------------------------------------\n",
            "Input size (MB): 0.00\n",
            "Forward/backward pass size (MB): 0.02\n",
            "Params size (MB): 2.38\n",
            "Estimated Total Size (MB): 2.40\n",
            "----------------------------------------------------------------\n"
          ],
          "name": "stdout"
        }
      ]
    },
    {
      "cell_type": "markdown",
      "metadata": {
        "colab_type": "text",
        "id": "544PGKEnjPr5"
      },
      "source": [
        "Your experiments come here:"
      ]
    },
    {
      "cell_type": "code",
      "metadata": {
        "id": "es424ku3f74f",
        "colab_type": "code",
        "colab": {}
      },
      "source": [
        "# train function\n",
        "def train(isLrScheduller=False):\n",
        "    running_loss = 0.0\n",
        "    train_acc = 0.0\n",
        "    len_all = 0.0\n",
        "    loss_train = 0.0\n",
        "  \n",
        "    for batch_idx, (inputs, targets) in enumerate(train_loader):\n",
        "        inputs, targets = inputs.to(device), targets.to(device)\n",
        "        opt.zero_grad()\n",
        "        outputs = model(inputs)\n",
        "        loss_val = loss_func(outputs, targets)\n",
        "        loss_val.backward()\n",
        "        opt.step()\n",
        "        accuracy_add = (outputs.argmax(dim=1) == targets).float().sum().data.cpu()\n",
        "        # accumulate metrics on the test\n",
        "        train_acc += accuracy_add \n",
        "        len_all += len(targets)\n",
        "        loss_train += len(targets) * loss_val.item()\n",
        "    if isLrScheduller:    \n",
        "      lr_scheduler.step(running_loss)\n",
        "    return train_acc / len_all, loss_train / len_all"
      ],
      "execution_count": 0,
      "outputs": []
    },
    {
      "cell_type": "code",
      "metadata": {
        "id": "wYftENhWgXBT",
        "colab_type": "code",
        "colab": {}
      },
      "source": [
        "# function for loss and accuracy drawing\n",
        "def loss_accuracy_plot(accuracy_history_test, accuracy_history_train, loss_history_test, loss_history_train):\n",
        "  fig, ax = plt.subplots(figsize=[15, 5])\n",
        "  plt.subplot(1, 2, 1)\n",
        "  plt.plot(accuracy_history_test, label='test accuracy')\n",
        "  plt.plot(accuracy_history_train, label='train accuracy')\n",
        "  plt.legend(loc='best')\n",
        "  plt.title('Test and train accuracyes')\n",
        "  plt.grid('True')\n",
        "  plt.xlabel('Epoch')\n",
        "  plt.ylabel('Accuracy')\n",
        "  plt.subplot(1, 2, 2)\n",
        "  plt.plot(loss_history_test, label='test loss')\n",
        "  plt.plot(loss_history_train, label='train loss')\n",
        "  plt.legend(loc='best')\n",
        "  plt.title('Train and test losses')\n",
        "  plt.xlabel('Epoch')\n",
        "  plt.ylabel('Loss')\n",
        "  plt.show()"
      ],
      "execution_count": 0,
      "outputs": []
    },
    {
      "cell_type": "code",
      "metadata": {
        "colab_type": "code",
        "id": "i3POFj90Ti-6",
        "colab": {}
      },
      "source": [
        "model = TinyNeuralNetwork().to(device)\n",
        "opt = torch.optim.Adam(model.parameters(), lr=1.0e-3) # YOUR CODE HERE\n",
        "loss_func = torch.nn.CrossEntropyLoss() # YOUR CODE HERE\n",
        "\n",
        "# reduction in the larnings if we go out on the plateau\n",
        "# the  decision will be made on a validation sample\n",
        "lr_scheduler = torch.optim.lr_scheduler.ReduceLROnPlateau(opt, verbose=True, patience=7, factor=0.2)\n"
      ],
      "execution_count": 0,
      "outputs": []
    },
    {
      "cell_type": "code",
      "metadata": {
        "id": "uMyS4jkHh7FZ",
        "colab_type": "code",
        "outputId": "5ee87a08-385b-4c2e-bc84-64501f535e85",
        "colab": {
          "base_uri": "https://localhost:8080/",
          "height": 1000
        }
      },
      "source": [
        "accuracy_history_test = []\n",
        "accuracy_history_train = []\n",
        "\n",
        "loss_history_test = []\n",
        "loss_history_train = []\n",
        "num_epoch = 70\n",
        "for epoch in range(num_epoch):\n",
        "  train_acc, loss_train = train(isLrScheduller=True)\n",
        "  loss_test_accumulated = 0.0\n",
        "  accuracy_accumulated = 0.0\n",
        "  for _, (inputs, targets) in enumerate(test_loader):\n",
        "    inputs, targets = inputs.to(device), targets.to(device)\n",
        "    test_preds = model(inputs)\n",
        "    loss_test = loss_func(test_preds, targets).item()\n",
        "    accuracy_accumulated += float((test_preds.argmax(dim=1) == targets).float().mean().data.cpu())\n",
        "    loss_test_accumulated += float(loss_test)\n",
        "\n",
        "  len_test_loader = len(test_loader)\n",
        "  accuracy = accuracy_accumulated / len_test_loader\n",
        "  accuracy_history_test.append(accuracy)\n",
        "  accuracy_history_train.append(train_acc)\n",
        "  print('Epoch:', epoch, '    acc_train:', np.round(float(train_acc), 4), '    acc_test:', np.round(accuracy, 4))\n",
        "  loss_history_test.append(loss_test_accumulated / len_test_loader)\n",
        "  loss_history_train.append(float(loss_train))\n"
      ],
      "execution_count": 0,
      "outputs": [
        {
          "output_type": "stream",
          "text": [
            "Epoch: 0     acc_train: 0.7995     acc_test: 0.8259\n",
            "Epoch: 1     acc_train: 0.8479     acc_test: 0.8372\n",
            "Epoch: 2     acc_train: 0.8582     acc_test: 0.8499\n",
            "Epoch: 3     acc_train: 0.8648     acc_test: 0.8548\n",
            "Epoch: 4     acc_train: 0.8709     acc_test: 0.8597\n",
            "Epoch: 5     acc_train: 0.8752     acc_test: 0.8648\n",
            "Epoch: 6     acc_train: 0.879     acc_test: 0.8644\n",
            "Epoch: 7     acc_train: 0.8797     acc_test: 0.8629\n",
            "Epoch     9: reducing learning rate of group 0 to 2.0000e-04.\n",
            "Epoch: 8     acc_train: 0.8841     acc_test: 0.868\n",
            "Epoch: 9     acc_train: 0.8975     acc_test: 0.8812\n",
            "Epoch: 10     acc_train: 0.901     acc_test: 0.8789\n",
            "Epoch: 11     acc_train: 0.9029     acc_test: 0.8805\n",
            "Epoch: 12     acc_train: 0.9039     acc_test: 0.8799\n",
            "Epoch: 13     acc_train: 0.9053     acc_test: 0.8798\n",
            "Epoch: 14     acc_train: 0.9068     acc_test: 0.8862\n",
            "Epoch: 15     acc_train: 0.9067     acc_test: 0.8836\n",
            "Epoch    17: reducing learning rate of group 0 to 4.0000e-05.\n",
            "Epoch: 16     acc_train: 0.9088     acc_test: 0.8827\n",
            "Epoch: 17     acc_train: 0.9117     acc_test: 0.8843\n",
            "Epoch: 18     acc_train: 0.913     acc_test: 0.8851\n",
            "Epoch: 19     acc_train: 0.9137     acc_test: 0.8851\n",
            "Epoch: 20     acc_train: 0.9138     acc_test: 0.8884\n",
            "Epoch: 21     acc_train: 0.9141     acc_test: 0.8863\n",
            "Epoch: 22     acc_train: 0.9149     acc_test: 0.8837\n",
            "Epoch: 23     acc_train: 0.9142     acc_test: 0.8893\n",
            "Epoch    25: reducing learning rate of group 0 to 8.0000e-06.\n",
            "Epoch: 24     acc_train: 0.9131     acc_test: 0.8867\n",
            "Epoch: 25     acc_train: 0.9151     acc_test: 0.8869\n",
            "Epoch: 26     acc_train: 0.9156     acc_test: 0.8876\n",
            "Epoch: 27     acc_train: 0.9166     acc_test: 0.8846\n",
            "Epoch: 28     acc_train: 0.9143     acc_test: 0.8883\n",
            "Epoch: 29     acc_train: 0.915     acc_test: 0.8862\n",
            "Epoch: 30     acc_train: 0.9154     acc_test: 0.8854\n",
            "Epoch: 31     acc_train: 0.9156     acc_test: 0.8861\n",
            "Epoch    33: reducing learning rate of group 0 to 1.6000e-06.\n",
            "Epoch: 32     acc_train: 0.9164     acc_test: 0.8854\n",
            "Epoch: 33     acc_train: 0.9159     acc_test: 0.891\n",
            "Epoch: 34     acc_train: 0.9155     acc_test: 0.8858\n",
            "Epoch: 35     acc_train: 0.9163     acc_test: 0.8892\n",
            "Epoch: 36     acc_train: 0.9154     acc_test: 0.8871\n",
            "Epoch: 37     acc_train: 0.9168     acc_test: 0.8899\n",
            "Epoch: 38     acc_train: 0.9166     acc_test: 0.8883\n",
            "Epoch: 39     acc_train: 0.9162     acc_test: 0.889\n",
            "Epoch    41: reducing learning rate of group 0 to 3.2000e-07.\n",
            "Epoch: 40     acc_train: 0.9161     acc_test: 0.8848\n",
            "Epoch: 41     acc_train: 0.9164     acc_test: 0.8856\n",
            "Epoch: 42     acc_train: 0.9161     acc_test: 0.8849\n",
            "Epoch: 43     acc_train: 0.9162     acc_test: 0.888\n",
            "Epoch: 44     acc_train: 0.9159     acc_test: 0.889\n",
            "Epoch: 45     acc_train: 0.9157     acc_test: 0.8875\n",
            "Epoch: 46     acc_train: 0.9163     acc_test: 0.8863\n",
            "Epoch: 47     acc_train: 0.9156     acc_test: 0.8869\n",
            "Epoch    49: reducing learning rate of group 0 to 6.4000e-08.\n",
            "Epoch: 48     acc_train: 0.9166     acc_test: 0.8868\n",
            "Epoch: 49     acc_train: 0.9162     acc_test: 0.8866\n",
            "Epoch: 50     acc_train: 0.9155     acc_test: 0.8866\n",
            "Epoch: 51     acc_train: 0.9168     acc_test: 0.8928\n",
            "Epoch: 52     acc_train: 0.9158     acc_test: 0.8867\n",
            "Epoch: 53     acc_train: 0.9161     acc_test: 0.8875\n",
            "Epoch: 54     acc_train: 0.9155     acc_test: 0.8859\n",
            "Epoch: 55     acc_train: 0.9166     acc_test: 0.8882\n",
            "Epoch    57: reducing learning rate of group 0 to 1.2800e-08.\n",
            "Epoch: 56     acc_train: 0.9173     acc_test: 0.8923\n",
            "Epoch: 57     acc_train: 0.9157     acc_test: 0.8887\n",
            "Epoch: 58     acc_train: 0.9148     acc_test: 0.887\n",
            "Epoch: 59     acc_train: 0.9162     acc_test: 0.8869\n",
            "Epoch: 60     acc_train: 0.916     acc_test: 0.8883\n",
            "Epoch: 61     acc_train: 0.9159     acc_test: 0.8886\n",
            "Epoch: 62     acc_train: 0.9166     acc_test: 0.8862\n",
            "Epoch: 63     acc_train: 0.9162     acc_test: 0.8878\n",
            "Epoch    65: reducing learning rate of group 0 to 2.5600e-09.\n",
            "Epoch: 64     acc_train: 0.9156     acc_test: 0.8874\n",
            "Epoch: 65     acc_train: 0.9162     acc_test: 0.886\n",
            "Epoch: 66     acc_train: 0.9166     acc_test: 0.8888\n",
            "Epoch: 67     acc_train: 0.9159     acc_test: 0.8896\n",
            "Epoch: 68     acc_train: 0.9158     acc_test: 0.8854\n",
            "Epoch: 69     acc_train: 0.916     acc_test: 0.8901\n"
          ],
          "name": "stdout"
        }
      ]
    },
    {
      "cell_type": "code",
      "metadata": {
        "id": "Qqz-z5qOqsc8",
        "colab_type": "code",
        "outputId": "fe2f1b01-ade9-4c19-eff7-7861d4a6e625",
        "colab": {
          "base_uri": "https://localhost:8080/",
          "height": 251
        }
      },
      "source": [
        "loss_accuracy_plot(accuracy_history_test, accuracy_history_train, loss_history_test, loss_history_train)"
      ],
      "execution_count": 0,
      "outputs": [
        {
          "output_type": "display_data",
          "data": {
            "image/png": "[encoded data removed]",
            "text/plain": [
              "<Figure size 1080x360 with 2 Axes>"
            ]
          },
          "metadata": {
            "tags": [],
            "needs_background": "light"
          }
        }
      ]
    },
    {
      "cell_type": "markdown",
      "metadata": {
        "colab_type": "text",
        "id": "L7ISqkjmCPB1"
      },
      "source": [
        "### Task 2: Overfit it.\n",
        "Build a network that will overfit to this dataset. Demonstrate the overfitting in the appropriate way (e.g. plot loss and accurasy on train and test set w.r.t. network complexity).\n",
        "\n",
        "*Note:* you also might decrease the size of `train` dataset to enforce the overfitting and speed up the computations."
      ]
    },
    {
      "cell_type": "code",
      "metadata": {
        "colab_type": "code",
        "id": "H12uAWiGBwJx",
        "colab": {}
      },
      "source": [
        "from torch.functional import F\n",
        "class OverfittingNeuralNetwork(nn.Module):\n",
        "    def __init__(self, input_shape=28*28, num_classes=10, input_channels=1, layer_num=2):\n",
        "        super(self.__class__, self).__init__()\n",
        "        self.layer_input = nn.Linear(input_shape,256)\n",
        "        self.layer_hidden_one = nn.Linear(256,128)\n",
        "        self.layer_hidden_two = nn.Linear(128,64)\n",
        "        self.layer_hidden_three = nn.Linear(64, input_shape)\n",
        "        self.layer_output = nn.Linear(input_shape, num_classes)\n",
        "        \n",
        "    def forward(self, out):       \n",
        "        # Flattened the input to make sure it fits the layer input\n",
        "        out = out.view(out.shape[0],-1)\n",
        "        out = F.relu(self.layer_input(out))\n",
        "        out = F.relu(self.layer_hidden_one(out))\n",
        "        out = F.relu(self.layer_hidden_two(out))\n",
        "        out = F.relu(self.layer_hidden_three(out))\n",
        "        out = F.log_softmax(self.layer_output(out),dim=1)\n",
        "        return out\n",
        "        \n"
      ],
      "execution_count": 0,
      "outputs": []
    },
    {
      "cell_type": "code",
      "metadata": {
        "colab_type": "code",
        "id": "JgXAKCpvCwqH",
        "outputId": "9f0c173a-0a60-482a-c53c-74c36d40e841",
        "colab": {
          "base_uri": "https://localhost:8080/",
          "height": 323
        }
      },
      "source": [
        "torchsummary.summary(OverfittingNeuralNetwork().to(device), (28*28,))"
      ],
      "execution_count": 0,
      "outputs": [
        {
          "output_type": "stream",
          "text": [
            "----------------------------------------------------------------\n",
            "        Layer (type)               Output Shape         Param #\n",
            "================================================================\n",
            "            Linear-1                  [-1, 256]         200,960\n",
            "            Linear-2                  [-1, 128]          32,896\n",
            "            Linear-3                   [-1, 64]           8,256\n",
            "            Linear-4                  [-1, 784]          50,960\n",
            "            Linear-5                   [-1, 10]           7,850\n",
            "================================================================\n",
            "Total params: 300,922\n",
            "Trainable params: 300,922\n",
            "Non-trainable params: 0\n",
            "----------------------------------------------------------------\n",
            "Input size (MB): 0.00\n",
            "Forward/backward pass size (MB): 0.01\n",
            "Params size (MB): 1.15\n",
            "Estimated Total Size (MB): 1.16\n",
            "----------------------------------------------------------------\n"
          ],
          "name": "stdout"
        }
      ]
    },
    {
      "cell_type": "code",
      "metadata": {
        "id": "oGoUFwYSXvS1",
        "colab_type": "code",
        "colab": {}
      },
      "source": [
        "model = OverfittingNeuralNetwork().to(device)\n",
        "opt = torch.optim.Adam(model.parameters(), lr=1.0e-3) \n",
        "loss_func = nn.NLLLoss() \n"
      ],
      "execution_count": 0,
      "outputs": []
    },
    {
      "cell_type": "code",
      "metadata": {
        "id": "GFfVjPS3rUBj",
        "colab_type": "code",
        "outputId": "d557c168-2d91-4a3a-be16-e58535aa3ed1",
        "colab": {
          "base_uri": "https://localhost:8080/",
          "height": 1000
        }
      },
      "source": [
        "accuracy_history_test = []\n",
        "accuracy_history_train = []\n",
        "\n",
        "loss_history_test = []\n",
        "loss_history_train = []\n",
        "num_epoch = 70\n",
        "for epoch in range(num_epoch):\n",
        "  train_acc, loss_train = train()\n",
        "  loss_test_accumulated = 0.0\n",
        "  accuracy_accumulated = 0.0\n",
        "  for _, (inputs, targets) in enumerate(test_loader):\n",
        "    inputs, targets = inputs.to(device), targets.to(device)\n",
        "    test_preds = model(inputs)\n",
        "    loss_test = loss_func(test_preds, targets).item()\n",
        "    accuracy_accumulated += float((test_preds.argmax(dim=1) == targets).float().mean().data.cpu())\n",
        "    loss_test_accumulated += float(loss_test)\n",
        "\n",
        "  len_test_loader = len(test_loader)\n",
        "  accuracy = accuracy_accumulated / len_test_loader\n",
        "  accuracy_history_test.append(accuracy)\n",
        "  accuracy_history_train.append(train_acc)\n",
        "  print('Epoch:', epoch, '    acc_train:', np.round(float(train_acc), 4), '   acc_test:', np.round(accuracy, 4))\n",
        "  loss_history_test.append(loss_test_accumulated / len_test_loader)\n",
        "  loss_history_train.append(float(loss_train))\n"
      ],
      "execution_count": 0,
      "outputs": [
        {
          "output_type": "stream",
          "text": [
            "Epoch: 0     acc_train: 0.8669    acc_test: 0.8617\n",
            "Epoch: 1     acc_train: 0.8785    acc_test: 0.8666\n",
            "Epoch: 2     acc_train: 0.8857    acc_test: 0.8629\n",
            "Epoch: 3     acc_train: 0.8911    acc_test: 0.8737\n",
            "Epoch: 4     acc_train: 0.8962    acc_test: 0.8738\n",
            "Epoch: 5     acc_train: 0.9004    acc_test: 0.8873\n",
            "Epoch: 6     acc_train: 0.9032    acc_test: 0.8798\n",
            "Epoch: 7     acc_train: 0.9066    acc_test: 0.8841\n",
            "Epoch: 8     acc_train: 0.9085    acc_test: 0.8749\n",
            "Epoch: 9     acc_train: 0.9118    acc_test: 0.8864\n",
            "Epoch: 10     acc_train: 0.9161    acc_test: 0.8849\n",
            "Epoch: 11     acc_train: 0.919    acc_test: 0.8924\n",
            "Epoch: 12     acc_train: 0.9201    acc_test: 0.8909\n",
            "Epoch: 13     acc_train: 0.9228    acc_test: 0.8933\n",
            "Epoch: 14     acc_train: 0.9256    acc_test: 0.8896\n",
            "Epoch: 15     acc_train: 0.9279    acc_test: 0.8898\n",
            "Epoch: 16     acc_train: 0.9301    acc_test: 0.8948\n",
            "Epoch: 17     acc_train: 0.9327    acc_test: 0.8875\n",
            "Epoch: 18     acc_train: 0.9338    acc_test: 0.8941\n",
            "Epoch: 19     acc_train: 0.9359    acc_test: 0.8871\n",
            "Epoch: 20     acc_train: 0.9362    acc_test: 0.8918\n",
            "Epoch: 21     acc_train: 0.9395    acc_test: 0.8967\n",
            "Epoch: 22     acc_train: 0.941    acc_test: 0.8938\n",
            "Epoch: 23     acc_train: 0.9437    acc_test: 0.8956\n",
            "Epoch: 24     acc_train: 0.9435    acc_test: 0.893\n",
            "Epoch: 25     acc_train: 0.9447    acc_test: 0.8941\n",
            "Epoch: 26     acc_train: 0.946    acc_test: 0.8963\n",
            "Epoch: 27     acc_train: 0.9467    acc_test: 0.8964\n",
            "Epoch: 28     acc_train: 0.95    acc_test: 0.8969\n",
            "Epoch: 29     acc_train: 0.9492    acc_test: 0.8957\n",
            "Epoch: 30     acc_train: 0.9519    acc_test: 0.8978\n",
            "Epoch: 31     acc_train: 0.9514    acc_test: 0.8996\n",
            "Epoch: 32     acc_train: 0.9531    acc_test: 0.8952\n",
            "Epoch: 33     acc_train: 0.9519    acc_test: 0.8957\n",
            "Epoch: 34     acc_train: 0.9575    acc_test: 0.8946\n",
            "Epoch: 35     acc_train: 0.956    acc_test: 0.8933\n",
            "Epoch: 36     acc_train: 0.958    acc_test: 0.8954\n",
            "Epoch: 37     acc_train: 0.9588    acc_test: 0.8959\n",
            "Epoch: 38     acc_train: 0.9586    acc_test: 0.8931\n",
            "Epoch: 39     acc_train: 0.9606    acc_test: 0.8948\n",
            "Epoch: 40     acc_train: 0.9591    acc_test: 0.8969\n",
            "Epoch: 41     acc_train: 0.9611    acc_test: 0.8959\n",
            "Epoch: 42     acc_train: 0.9609    acc_test: 0.895\n",
            "Epoch: 43     acc_train: 0.9631    acc_test: 0.8942\n",
            "Epoch: 44     acc_train: 0.9648    acc_test: 0.8933\n",
            "Epoch: 45     acc_train: 0.9633    acc_test: 0.8977\n",
            "Epoch: 46     acc_train: 0.9649    acc_test: 0.8868\n",
            "Epoch: 47     acc_train: 0.9661    acc_test: 0.8953\n",
            "Epoch: 48     acc_train: 0.9664    acc_test: 0.8951\n",
            "Epoch: 49     acc_train: 0.9651    acc_test: 0.8936\n",
            "Epoch: 50     acc_train: 0.9689    acc_test: 0.8923\n",
            "Epoch: 51     acc_train: 0.9693    acc_test: 0.8947\n",
            "Epoch: 52     acc_train: 0.9692    acc_test: 0.8956\n",
            "Epoch: 53     acc_train: 0.9701    acc_test: 0.8955\n",
            "Epoch: 54     acc_train: 0.9699    acc_test: 0.8971\n",
            "Epoch: 55     acc_train: 0.9703    acc_test: 0.8936\n",
            "Epoch: 56     acc_train: 0.9708    acc_test: 0.8914\n",
            "Epoch: 57     acc_train: 0.9723    acc_test: 0.8974\n",
            "Epoch: 58     acc_train: 0.9714    acc_test: 0.8974\n",
            "Epoch: 59     acc_train: 0.9719    acc_test: 0.8946\n",
            "Epoch: 60     acc_train: 0.9714    acc_test: 0.8936\n",
            "Epoch: 61     acc_train: 0.9757    acc_test: 0.8962\n",
            "Epoch: 62     acc_train: 0.9743    acc_test: 0.8948\n",
            "Epoch: 63     acc_train: 0.973    acc_test: 0.8973\n",
            "Epoch: 64     acc_train: 0.9736    acc_test: 0.8947\n",
            "Epoch: 65     acc_train: 0.9755    acc_test: 0.8901\n",
            "Epoch: 66     acc_train: 0.9756    acc_test: 0.8902\n",
            "Epoch: 67     acc_train: 0.9755    acc_test: 0.8927\n",
            "Epoch: 68     acc_train: 0.9782    acc_test: 0.8957\n",
            "Epoch: 69     acc_train: 0.9758    acc_test: 0.8986\n"
          ],
          "name": "stdout"
        }
      ]
    },
    {
      "cell_type": "code",
      "metadata": {
        "id": "-JmHYkUZagEf",
        "colab_type": "code",
        "outputId": "af3e35bb-f859-4e42-ebd1-2aa9767958da",
        "colab": {
          "base_uri": "https://localhost:8080/",
          "height": 251
        }
      },
      "source": [
        "loss_accuracy_plot(accuracy_history_test, accuracy_history_train, loss_history_test, loss_history_train)"
      ],
      "execution_count": 0,
      "outputs": [
        {
          "output_type": "display_data",
          "data": {
            "image/png": "[encoded data removed]",
            "text/plain": [
              "<Figure size 1080x360 with 2 Axes>"
            ]
          },
          "metadata": {
            "tags": [],
            "needs_background": "light"
          }
        }
      ]
    },
    {
      "cell_type": "markdown",
      "metadata": {
        "id": "1o5hrBxZXvS4",
        "colab_type": "text"
      },
      "source": [
        "### Task 3: Fix it.\n",
        "Fix the overfitted network from the previous step (at least partially) by using regularization techniques (Dropout/Batchnorm/...) and demonstrate the results. "
      ]
    },
    {
      "cell_type": "code",
      "metadata": {
        "id": "qI6KJkt3GEbL",
        "colab_type": "code",
        "colab": {}
      },
      "source": [
        "from torch.functional import F\n",
        "class FixedNeuralNetwork(nn.Module):\n",
        "    def __init__(self, input_shape=28*28, num_classes=10, input_channels=1, layer_num=2):\n",
        "        super(self.__class__, self).__init__()\n",
        "        self.layer_input = nn.Linear(input_shape,256)\n",
        "        self.layer_hidden_one = nn.Linear(256,128)\n",
        "        self.layer_hidden_two = nn.Linear(128,64)\n",
        "        self.layer_hidden_three = nn.Linear(64, input_shape)\n",
        "        self.layer_output = nn.Linear(input_shape, num_classes)\n",
        "        \n",
        "        # 60% Dropout here\n",
        "        self.dropout = nn.Dropout(0.6)\n",
        "        self.layer_num = layer_num\n",
        "        \n",
        "    def forward(self, out):       \n",
        "        # Flattened the input to make sure it fits the layer input\n",
        "        out = out.view(out.shape[0],-1)\n",
        "        out = self.dropout(F.relu(self.layer_input(out)))\n",
        "        out = self.dropout(F.relu(self.layer_hidden_one(out)))\n",
        "        out = self.dropout(F.relu(self.layer_hidden_two(out)))\n",
        "        out = self.dropout(F.relu(self.layer_hidden_three(out)))\n",
        "        out = F.log_softmax(self.layer_output(out),dim=1)\n",
        "        return out\n",
        "        \n"
      ],
      "execution_count": 0,
      "outputs": []
    },
    {
      "cell_type": "code",
      "metadata": {
        "id": "sqL4vVztXvS6",
        "colab_type": "code",
        "outputId": "89080bb1-096e-43c5-c228-c23b53411996",
        "colab": {
          "base_uri": "https://localhost:8080/",
          "height": 391
        }
      },
      "source": [
        "torchsummary.summary(FixedNeuralNetwork().to(device), (28*28,))"
      ],
      "execution_count": 0,
      "outputs": [
        {
          "output_type": "stream",
          "text": [
            "----------------------------------------------------------------\n",
            "        Layer (type)               Output Shape         Param #\n",
            "================================================================\n",
            "            Linear-1                  [-1, 256]         200,960\n",
            "           Dropout-2                  [-1, 256]               0\n",
            "            Linear-3                  [-1, 128]          32,896\n",
            "           Dropout-4                  [-1, 128]               0\n",
            "            Linear-5                   [-1, 64]           8,256\n",
            "           Dropout-6                   [-1, 64]               0\n",
            "            Linear-7                  [-1, 784]          50,960\n",
            "           Dropout-8                  [-1, 784]               0\n",
            "            Linear-9                   [-1, 10]           7,850\n",
            "================================================================\n",
            "Total params: 300,922\n",
            "Trainable params: 300,922\n",
            "Non-trainable params: 0\n",
            "----------------------------------------------------------------\n",
            "Input size (MB): 0.00\n",
            "Forward/backward pass size (MB): 0.02\n",
            "Params size (MB): 1.15\n",
            "Estimated Total Size (MB): 1.17\n",
            "----------------------------------------------------------------\n"
          ],
          "name": "stdout"
        }
      ]
    },
    {
      "cell_type": "code",
      "metadata": {
        "id": "IHqk2wfvXvS9",
        "colab_type": "code",
        "colab": {}
      },
      "source": [
        "model = FixedNeuralNetwork().to(device)\n",
        "opt = torch.optim.Adam(model.parameters(), lr=1.0e-3) \n",
        "loss_func = nn.NLLLoss() \n"
      ],
      "execution_count": 0,
      "outputs": []
    },
    {
      "cell_type": "code",
      "metadata": {
        "id": "riPrfuIuJ4Ry",
        "colab_type": "code",
        "outputId": "c80e7472-3d68-4098-fdb7-53ef4dff5f34",
        "colab": {
          "base_uri": "https://localhost:8080/",
          "height": 1000
        }
      },
      "source": [
        "accuracy_history_test = []\n",
        "accuracy_history_train = []\n",
        "\n",
        "loss_history_test = []\n",
        "loss_history_train = []\n",
        "num_epoch = 70\n",
        "for epoch in range(num_epoch):\n",
        "  train_acc, loss_train = train()\n",
        "  loss_test_accumulated = 0.0\n",
        "  accuracy_accumulated = 0.0\n",
        "  for _, (inputs, targets) in enumerate(test_loader):\n",
        "    inputs, targets = inputs.to(device), targets.to(device)\n",
        "    test_preds = model(inputs)\n",
        "    loss_test = loss_func(test_preds, targets).item()\n",
        "    accuracy_accumulated += float((test_preds.argmax(dim=1) == targets).float().mean().data.cpu())\n",
        "    loss_test_accumulated += float(loss_test)\n",
        "    \n",
        "  len_test_loader = len(test_loader)\n",
        "  accuracy = accuracy_accumulated / len_test_loader\n",
        "  accuracy_history_test.append(accuracy)\n",
        "  accuracy_history_train.append(train_acc)\n",
        "  print('Epoch:', epoch, '    acc_train:', np.round(float(train_acc), 4), '   acc_test:', np.round(accuracy, 4))\n",
        "  loss_history_test.append(loss_test_accumulated / len_test_loader)\n",
        "  loss_history_train.append(float(loss_train))\n"
      ],
      "execution_count": 0,
      "outputs": [
        {
          "output_type": "stream",
          "text": [
            "Epoch: 0     acc_train: 0.5274    acc_test: 0.6727\n",
            "Epoch: 1     acc_train: 0.7098    acc_test: 0.7427\n",
            "Epoch: 2     acc_train: 0.7523    acc_test: 0.7594\n",
            "Epoch: 3     acc_train: 0.7725    acc_test: 0.7723\n",
            "Epoch: 4     acc_train: 0.7827    acc_test: 0.7754\n",
            "Epoch: 5     acc_train: 0.7896    acc_test: 0.7828\n",
            "Epoch: 6     acc_train: 0.7962    acc_test: 0.7979\n",
            "Epoch: 7     acc_train: 0.8029    acc_test: 0.7985\n",
            "Epoch: 8     acc_train: 0.807    acc_test: 0.8027\n",
            "Epoch: 9     acc_train: 0.812    acc_test: 0.7983\n",
            "Epoch: 10     acc_train: 0.8148    acc_test: 0.8024\n",
            "Epoch: 11     acc_train: 0.8171    acc_test: 0.8052\n",
            "Epoch: 12     acc_train: 0.8174    acc_test: 0.7987\n",
            "Epoch: 13     acc_train: 0.8233    acc_test: 0.8096\n",
            "Epoch: 14     acc_train: 0.8241    acc_test: 0.8073\n",
            "Epoch: 15     acc_train: 0.8241    acc_test: 0.8074\n",
            "Epoch: 16     acc_train: 0.8266    acc_test: 0.8068\n",
            "Epoch: 17     acc_train: 0.8279    acc_test: 0.8066\n",
            "Epoch: 18     acc_train: 0.828    acc_test: 0.8097\n",
            "Epoch: 19     acc_train: 0.8297    acc_test: 0.8143\n",
            "Epoch: 20     acc_train: 0.83    acc_test: 0.8139\n",
            "Epoch: 21     acc_train: 0.8308    acc_test: 0.8164\n",
            "Epoch: 22     acc_train: 0.8314    acc_test: 0.81\n",
            "Epoch: 23     acc_train: 0.8306    acc_test: 0.8249\n",
            "Epoch: 24     acc_train: 0.8317    acc_test: 0.8222\n",
            "Epoch: 25     acc_train: 0.8324    acc_test: 0.8176\n",
            "Epoch: 26     acc_train: 0.836    acc_test: 0.8206\n",
            "Epoch: 27     acc_train: 0.8358    acc_test: 0.8163\n",
            "Epoch: 28     acc_train: 0.8349    acc_test: 0.8205\n",
            "Epoch: 29     acc_train: 0.8341    acc_test: 0.8213\n",
            "Epoch: 30     acc_train: 0.8333    acc_test: 0.8259\n",
            "Epoch: 31     acc_train: 0.8379    acc_test: 0.8256\n",
            "Epoch: 32     acc_train: 0.8384    acc_test: 0.8241\n",
            "Epoch: 33     acc_train: 0.8403    acc_test: 0.8271\n",
            "Epoch: 34     acc_train: 0.838    acc_test: 0.8242\n",
            "Epoch: 35     acc_train: 0.8413    acc_test: 0.8258\n",
            "Epoch: 36     acc_train: 0.8395    acc_test: 0.8219\n",
            "Epoch: 37     acc_train: 0.8397    acc_test: 0.8257\n",
            "Epoch: 38     acc_train: 0.8403    acc_test: 0.8229\n",
            "Epoch: 39     acc_train: 0.8412    acc_test: 0.8325\n",
            "Epoch: 40     acc_train: 0.8381    acc_test: 0.8231\n",
            "Epoch: 41     acc_train: 0.8406    acc_test: 0.8265\n",
            "Epoch: 42     acc_train: 0.8393    acc_test: 0.8309\n",
            "Epoch: 43     acc_train: 0.8442    acc_test: 0.8204\n",
            "Epoch: 44     acc_train: 0.8422    acc_test: 0.8247\n",
            "Epoch: 45     acc_train: 0.8431    acc_test: 0.8241\n",
            "Epoch: 46     acc_train: 0.8401    acc_test: 0.831\n",
            "Epoch: 47     acc_train: 0.8422    acc_test: 0.8325\n",
            "Epoch: 48     acc_train: 0.8421    acc_test: 0.8269\n",
            "Epoch: 49     acc_train: 0.84    acc_test: 0.8235\n",
            "Epoch: 50     acc_train: 0.8436    acc_test: 0.8236\n",
            "Epoch: 51     acc_train: 0.8419    acc_test: 0.8331\n",
            "Epoch: 52     acc_train: 0.8467    acc_test: 0.8272\n",
            "Epoch: 53     acc_train: 0.843    acc_test: 0.8351\n",
            "Epoch: 54     acc_train: 0.8449    acc_test: 0.8311\n",
            "Epoch: 55     acc_train: 0.8443    acc_test: 0.8284\n",
            "Epoch: 56     acc_train: 0.8448    acc_test: 0.8239\n",
            "Epoch: 57     acc_train: 0.8421    acc_test: 0.8279\n",
            "Epoch: 58     acc_train: 0.8432    acc_test: 0.8267\n",
            "Epoch: 59     acc_train: 0.8442    acc_test: 0.8348\n",
            "Epoch: 60     acc_train: 0.8462    acc_test: 0.8257\n",
            "Epoch: 61     acc_train: 0.8458    acc_test: 0.8274\n",
            "Epoch: 62     acc_train: 0.8431    acc_test: 0.8293\n",
            "Epoch: 63     acc_train: 0.8455    acc_test: 0.8312\n",
            "Epoch: 64     acc_train: 0.8453    acc_test: 0.8284\n",
            "Epoch: 65     acc_train: 0.8446    acc_test: 0.8304\n",
            "Epoch: 66     acc_train: 0.8461    acc_test: 0.831\n",
            "Epoch: 67     acc_train: 0.8443    acc_test: 0.8276\n",
            "Epoch: 68     acc_train: 0.846    acc_test: 0.8353\n",
            "Epoch: 69     acc_train: 0.8469    acc_test: 0.8325\n"
          ],
          "name": "stdout"
        }
      ]
    },
    {
      "cell_type": "code",
      "metadata": {
        "id": "m7HuhoYWdWTs",
        "colab_type": "code",
        "outputId": "8cffc6fb-7d13-44f8-9704-346f06a1ba63",
        "colab": {
          "base_uri": "https://localhost:8080/",
          "height": 251
        }
      },
      "source": [
        "loss_accuracy_plot(accuracy_history_test, accuracy_history_train, loss_history_test, loss_history_train)"
      ],
      "execution_count": 0,
      "outputs": [
        {
          "output_type": "display_data",
          "data": {
            "image/png": "[encoded data removed]",
            "text/plain": [
              "<Figure size 1080x360 with 2 Axes>"
            ]
          },
          "metadata": {
            "tags": [],
            "needs_background": "light"
          }
        }
      ]
    },
    {
      "cell_type": "markdown",
      "metadata": {
        "colab_type": "text",
        "id": "dMui_uLJ7G0d"
      },
      "source": [
        "### Conclusions:\n",
        "\n",
        "В первом пункте мы собрали простую сетку, которая дала нам test accuracy, достигающую 0.885.  \n",
        "Во втором пункте мы собрали сетку, для которой произошел overfit, причем по графикам loss и accuracy мы видели, что в какой-то момент сетка вышла на плато, а loss начал расти.\n",
        "В третьем пункте мы добавили droptout для того, чтобы избежать overfit. И это дало успешные результаты, поскольку,как видно из графика, loss начал уменьшаться и склонности к переобучению в данном случае нет"
      ]
    }
  ]
}